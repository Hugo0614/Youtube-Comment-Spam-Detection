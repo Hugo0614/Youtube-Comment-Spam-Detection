{
 "cells": [
  {
   "cell_type": "code",
   "execution_count": 8,
   "id": "4b129a0d-1477-49fa-b4a4-aad945f613e6",
   "metadata": {},
   "outputs": [],
   "source": [
    "import pandas as pd\n",
    "import matplotlib.pyplot as plt\n",
    "from sklearn.model_selection import train_test_split\n",
    "from sklearn.metrics import accuracy_score\n",
    "import tensorflow as tf\n",
    "from tensorflow.keras.models import Sequential\n",
    "from tensorflow.keras.optimizers import RMSprop\n",
    "from tensorflow.keras.preprocessing.text import Tokenizer\n",
    "from tensorflow.keras.preprocessing.sequence import pad_sequences\n",
    "from tensorflow.keras.layers import Dense, Dropout, Embedding, LSTM, BatchNormalization\n",
    "from tensorflow.keras.callbacks import EarlyStopping\n",
    "import nltk\n",
    "from nltk.corpus import stopwords\n",
    "from nltk.stem import WordNetLemmatizer\n",
    "import re\n",
    "import random\n",
    "import pickle\n",
    "import numpy as np"
   ]
  },
  {
   "cell_type": "code",
   "execution_count": null,
   "id": "3dc4eba9-e3c3-4485-990e-fb84549cc95b",
   "metadata": {},
   "outputs": [],
   "source": [
    "# download nltk -> Only used once\n",
    "# nltk.download('stopwords')\n",
    "# nltk.download('wordnet')"
   ]
  },
  {
   "cell_type": "code",
   "execution_count": 9,
   "id": "e7f485eb-33b8-462d-84c5-8dcb2606c5e0",
   "metadata": {},
   "outputs": [],
   "source": [
    "random.seed(42)\n",
    "np.random.seed(42)\n",
    "tf.random.set_seed(42)"
   ]
  },
  {
   "cell_type": "code",
   "execution_count": 10,
   "id": "8f215ef8-37a0-4494-9ff8-e93b12a27c28",
   "metadata": {},
   "outputs": [],
   "source": [
    "# read the train .csv file and just take two useful col TEXT & CLASS\n",
    "def read_csv_file(file_path):\n",
    "    data = pd.read_csv(file_path)\n",
    "    text = data['TEXT']\n",
    "    labels = data['CLASS']\n",
    "    return text, labels\n",
    "\n",
    "# read the train .xlsv file and just take two useful col TEXT & CLASS\n",
    "def read_xlsv_file(file_path):\n",
    "    data = pd.read_excel(file_path)\n",
    "    text = data['TEXT']\n",
    "    labels = data['CLASS']\n",
    "    return text, labels"
   ]
  },
  {
   "cell_type": "code",
   "execution_count": 11,
   "id": "a7fd4675-9111-4fed-a6f8-2c6c7910cd48",
   "metadata": {},
   "outputs": [],
   "source": [
    "# 数据预处理函数，使用NLTK进行更全面的预处理\n",
    "def preprocess_text(text):\n",
    "    \"\"\"\n",
    "    对文本进行预处理，包括去除特殊字符、转换为小写、去除停用词和词形还原\n",
    "    \"\"\"\n",
    "    stop_words = set(stopwords.words('english'))\n",
    "    lemmatizer = WordNetLemmatizer()\n",
    "    processed_text = []\n",
    "    for t in text:\n",
    "        # 去除特殊字符\n",
    "        t = re.sub(r'[^a-zA-Z]', ' ', t)\n",
    "        # 转换为小写\n",
    "        t = t.lower()\n",
    "        # 分词\n",
    "        words = t.split()\n",
    "        # 去除停用词和词形还原\n",
    "        words = [lemmatizer.lemmatize(word) for word in words if word not in stop_words]\n",
    "        processed_text.append(' '.join(words))\n",
    "    return processed_text"
   ]
  },
  {
   "cell_type": "code",
   "execution_count": 12,
   "id": "35745e5b-0487-4731-8c02-5d3eadc0b547",
   "metadata": {},
   "outputs": [],
   "source": [
    "# Feature extraction and model training\n",
    "def train_model_RMSprop(text, labels, num_epochs):\n",
    "    text = preprocess_text(text)\n",
    "    tokenizer = Tokenizer()\n",
    "    tokenizer.fit_on_texts(text)\n",
    "    sequences = tokenizer.texts_to_sequences(text)\n",
    "    max_sequence_length = max([len(seq) for seq in sequences])\n",
    "    padded_sequences = pad_sequences(sequences, maxlen=max_sequence_length)\n",
    "    X_train, X_test, y_train, y_test = train_test_split(padded_sequences, labels, train_size=0.8, random_state=42)\n",
    "\n",
    "    model = Sequential()\n",
    "    model.add(Embedding(input_dim=len(tokenizer.word_index) + 1, output_dim=100, input_length=max_sequence_length))\n",
    "    model.add(BatchNormalization())\n",
    "    model.add(LSTM(128))\n",
    "    model.add(Dropout(0.5))\n",
    "    model.add(Dense(1, activation='sigmoid'))\n",
    "\n",
    "    optimizer = RMSprop(learning_rate=0.0001)\n",
    "    model.compile(loss='binary_crossentropy', optimizer=optimizer, metrics=['accuracy'])\n",
    "\n",
    "    early_stopping = EarlyStopping(monitor='val_loss', patience=10, restore_best_weights=True)\n",
    "    history = model.fit(X_train, y_train, batch_size=32, epochs=num_epochs, verbose=1, validation_split=0.2, callbacks=[early_stopping])\n",
    "    evaluation = model.evaluate(X_test, y_test)\n",
    "\n",
    "    print(\"Test set loss:\", evaluation[0])\n",
    "    print(\"Training set accuracy:\", evaluation[1])\n",
    "\n",
    "    return model, tokenizer, history"
   ]
  },
  {
   "cell_type": "code",
   "execution_count": 13,
   "id": "2bc6153e-0a57-45e6-8fa3-3df67d367d16",
   "metadata": {},
   "outputs": [],
   "source": [
    "# Testing the trained model and calculating accuracy\n",
    "def test_model(model, tokenizer, text, labels):\n",
    "    # 数据预处理\n",
    "    text = preprocess_text(text)\n",
    "    \n",
    "    # Tokenize the text data\n",
    "    sequences = tokenizer.texts_to_sequences(text)\n",
    "    padded_sequences = pad_sequences(sequences, maxlen=model.input_shape[1])\n",
    "\n",
    "    # Making predictions using the model\n",
    "    predictions = model.predict(padded_sequences)\n",
    "    y_pred = (predictions > 0.5).astype(int).flatten()\n",
    "    accuracy = accuracy_score(labels, y_pred)\n",
    "    print(\"Testing set accuracy:\", accuracy)\n",
    "\n",
    "    # Create a table to compare the actual CLASS col and the predicted CLASS col\n",
    "    df = pd.DataFrame({'Text': text, 'Predicted Label': y_pred, 'Actual Label': labels})\n",
    "    print(df)"
   ]
  },
  {
   "cell_type": "code",
   "execution_count": 14,
   "id": "51ed525e-eae9-43ac-a44b-1c74c2107474",
   "metadata": {},
   "outputs": [],
   "source": [
    "def plot_loss(history):\n",
    "    # Get the loss values from training history\n",
    "    loss = history.history['loss']\n",
    "\n",
    "    # Create a list of epochs\n",
    "    epochs = range(1, len(loss) + 1)\n",
    "\n",
    "    # Plot the loss values\n",
    "    plt.plot(epochs, loss, 'b', label='Training loss')\n",
    "    plt.title('Training Loss')\n",
    "    plt.xlabel('Epochs')\n",
    "    plt.ylabel('Loss')\n",
    "    plt.legend()\n",
    "    plt.show()"
   ]
  },
  {
   "cell_type": "code",
   "execution_count": 15,
   "id": "39ea76a9-f852-4272-ae4a-726af9dd5689",
   "metadata": {},
   "outputs": [],
   "source": [
    "def main():\n",
    "    train_text, train_labels = read_csv_file(\"./Topic_3_Data/Topic1-youtube_spam_train.csv\")\n",
    "\n",
    "    num_epochs = 100  # can change\n",
    "\n",
    "    model, tokenizer, history = train_model_RMSprop(train_text, train_labels, num_epochs)\n",
    "    \n",
    "    plot_loss(history)\n",
    "\n",
    "    test_text, test_labels = read_xlsv_file(\"./Topic_3_Data/Topic1-youtube_spam_test.xlsx\")\n",
    "\n",
    "    test_model(model, tokenizer, test_text, test_labels)\n",
    "\n",
    "    model.save('youtube_spam_detection_model.h5')\n",
    "    print(\"Model is saved as: youtube_spam_detection_model.h5\")\n",
    "    with open('tokenizer.pickle', 'wb') as handle:\n",
    "        pickle.dump(tokenizer, handle, protocol=pickle.HIGHEST_PROTOCOL)\n",
    "    print(\"Tokenizer save as tokenizer.pickle\")"
   ]
  },
  {
   "cell_type": "code",
   "execution_count": 16,
   "id": "fb272faf-cf99-4f6e-b3a3-5c9edaf95bc4",
   "metadata": {},
   "outputs": [
    {
     "name": "stdout",
     "output_type": "stream",
     "text": [
      "Epoch 1/100\n"
     ]
    },
    {
     "name": "stderr",
     "output_type": "stream",
     "text": [
      "C:\\Users\\hosanchau2\\AppData\\Local\\anaconda3\\envs\\myenv\\Lib\\site-packages\\keras\\src\\layers\\core\\embedding.py:90: UserWarning: Argument `input_length` is deprecated. Just remove it.\n",
      "  warnings.warn(\n"
     ]
    },
    {
     "name": "stdout",
     "output_type": "stream",
     "text": [
      "\u001b[1m16/16\u001b[0m \u001b[32m━━━━━━━━━━━━━━━━━━━━\u001b[0m\u001b[37m\u001b[0m \u001b[1m2s\u001b[0m 44ms/step - accuracy: 0.5795 - loss: 0.6547 - val_accuracy: 0.4766 - val_loss: 0.6887\n",
      "Epoch 2/100\n",
      "\u001b[1m16/16\u001b[0m \u001b[32m━━━━━━━━━━━━━━━━━━━━\u001b[0m\u001b[37m\u001b[0m \u001b[1m1s\u001b[0m 35ms/step - accuracy: 0.6621 - loss: 0.6157 - val_accuracy: 0.4453 - val_loss: 0.6876\n",
      "Epoch 3/100\n",
      "\u001b[1m16/16\u001b[0m \u001b[32m━━━━━━━━━━━━━━━━━━━━\u001b[0m\u001b[37m\u001b[0m \u001b[1m1s\u001b[0m 34ms/step - accuracy: 0.7446 - loss: 0.5705 - val_accuracy: 0.4453 - val_loss: 0.6854\n",
      "Epoch 4/100\n",
      "\u001b[1m16/16\u001b[0m \u001b[32m━━━━━━━━━━━━━━━━━━━━\u001b[0m\u001b[37m\u001b[0m \u001b[1m1s\u001b[0m 34ms/step - accuracy: 0.7863 - loss: 0.5097 - val_accuracy: 0.4453 - val_loss: 0.6829\n",
      "Epoch 5/100\n",
      "\u001b[1m16/16\u001b[0m \u001b[32m━━━━━━━━━━━━━━━━━━━━\u001b[0m\u001b[37m\u001b[0m \u001b[1m1s\u001b[0m 34ms/step - accuracy: 0.8452 - loss: 0.4430 - val_accuracy: 0.4688 - val_loss: 0.6796\n",
      "Epoch 6/100\n",
      "\u001b[1m16/16\u001b[0m \u001b[32m━━━━━━━━━━━━━━━━━━━━\u001b[0m\u001b[37m\u001b[0m \u001b[1m1s\u001b[0m 37ms/step - accuracy: 0.9017 - loss: 0.3802 - val_accuracy: 0.5000 - val_loss: 0.6746\n",
      "Epoch 7/100\n",
      "\u001b[1m16/16\u001b[0m \u001b[32m━━━━━━━━━━━━━━━━━━━━\u001b[0m\u001b[37m\u001b[0m \u001b[1m1s\u001b[0m 34ms/step - accuracy: 0.9230 - loss: 0.3130 - val_accuracy: 0.5391 - val_loss: 0.6693\n",
      "Epoch 8/100\n",
      "\u001b[1m16/16\u001b[0m \u001b[32m━━━━━━━━━━━━━━━━━━━━\u001b[0m\u001b[37m\u001b[0m \u001b[1m1s\u001b[0m 34ms/step - accuracy: 0.9516 - loss: 0.2410 - val_accuracy: 0.5469 - val_loss: 0.6627\n",
      "Epoch 9/100\n",
      "\u001b[1m16/16\u001b[0m \u001b[32m━━━━━━━━━━━━━━━━━━━━\u001b[0m\u001b[37m\u001b[0m \u001b[1m1s\u001b[0m 34ms/step - accuracy: 0.9679 - loss: 0.1934 - val_accuracy: 0.5469 - val_loss: 0.6553\n",
      "Epoch 10/100\n",
      "\u001b[1m16/16\u001b[0m \u001b[32m━━━━━━━━━━━━━━━━━━━━\u001b[0m\u001b[37m\u001b[0m \u001b[1m1s\u001b[0m 34ms/step - accuracy: 0.9658 - loss: 0.1618 - val_accuracy: 0.5703 - val_loss: 0.6454\n",
      "Epoch 11/100\n",
      "\u001b[1m16/16\u001b[0m \u001b[32m━━━━━━━━━━━━━━━━━━━━\u001b[0m\u001b[37m\u001b[0m \u001b[1m1s\u001b[0m 34ms/step - accuracy: 0.9740 - loss: 0.1314 - val_accuracy: 0.5859 - val_loss: 0.6328\n",
      "Epoch 12/100\n",
      "\u001b[1m16/16\u001b[0m \u001b[32m━━━━━━━━━━━━━━━━━━━━\u001b[0m\u001b[37m\u001b[0m \u001b[1m1s\u001b[0m 34ms/step - accuracy: 0.9772 - loss: 0.1049 - val_accuracy: 0.6016 - val_loss: 0.6188\n",
      "Epoch 13/100\n",
      "\u001b[1m16/16\u001b[0m \u001b[32m━━━━━━━━━━━━━━━━━━━━\u001b[0m\u001b[37m\u001b[0m \u001b[1m1s\u001b[0m 34ms/step - accuracy: 0.9807 - loss: 0.0887 - val_accuracy: 0.6094 - val_loss: 0.6018\n",
      "Epoch 14/100\n",
      "\u001b[1m16/16\u001b[0m \u001b[32m━━━━━━━━━━━━━━━━━━━━\u001b[0m\u001b[37m\u001b[0m \u001b[1m1s\u001b[0m 33ms/step - accuracy: 0.9791 - loss: 0.0850 - val_accuracy: 0.6328 - val_loss: 0.5793\n",
      "Epoch 15/100\n",
      "\u001b[1m16/16\u001b[0m \u001b[32m━━━━━━━━━━━━━━━━━━━━\u001b[0m\u001b[37m\u001b[0m \u001b[1m1s\u001b[0m 34ms/step - accuracy: 0.9691 - loss: 0.1050 - val_accuracy: 0.6797 - val_loss: 0.5555\n",
      "Epoch 16/100\n",
      "\u001b[1m16/16\u001b[0m \u001b[32m━━━━━━━━━━━━━━━━━━━━\u001b[0m\u001b[37m\u001b[0m \u001b[1m1s\u001b[0m 36ms/step - accuracy: 0.9801 - loss: 0.0664 - val_accuracy: 0.7188 - val_loss: 0.5329\n",
      "Epoch 17/100\n",
      "\u001b[1m16/16\u001b[0m \u001b[32m━━━━━━━━━━━━━━━━━━━━\u001b[0m\u001b[37m\u001b[0m \u001b[1m1s\u001b[0m 34ms/step - accuracy: 0.9876 - loss: 0.0586 - val_accuracy: 0.7500 - val_loss: 0.5001\n",
      "Epoch 18/100\n",
      "\u001b[1m16/16\u001b[0m \u001b[32m━━━━━━━━━━━━━━━━━━━━\u001b[0m\u001b[37m\u001b[0m \u001b[1m1s\u001b[0m 34ms/step - accuracy: 0.9880 - loss: 0.0561 - val_accuracy: 0.7656 - val_loss: 0.4804\n",
      "Epoch 19/100\n",
      "\u001b[1m16/16\u001b[0m \u001b[32m━━━━━━━━━━━━━━━━━━━━\u001b[0m\u001b[37m\u001b[0m \u001b[1m1s\u001b[0m 33ms/step - accuracy: 0.9911 - loss: 0.0508 - val_accuracy: 0.7734 - val_loss: 0.4488\n",
      "Epoch 20/100\n",
      "\u001b[1m16/16\u001b[0m \u001b[32m━━━━━━━━━━━━━━━━━━━━\u001b[0m\u001b[37m\u001b[0m \u001b[1m1s\u001b[0m 34ms/step - accuracy: 0.9936 - loss: 0.0408 - val_accuracy: 0.7969 - val_loss: 0.4179\n",
      "Epoch 21/100\n",
      "\u001b[1m16/16\u001b[0m \u001b[32m━━━━━━━━━━━━━━━━━━━━\u001b[0m\u001b[37m\u001b[0m \u001b[1m1s\u001b[0m 33ms/step - accuracy: 0.9905 - loss: 0.0349 - val_accuracy: 0.8047 - val_loss: 0.3911\n",
      "Epoch 22/100\n",
      "\u001b[1m16/16\u001b[0m \u001b[32m━━━━━━━━━━━━━━━━━━━━\u001b[0m\u001b[37m\u001b[0m \u001b[1m1s\u001b[0m 34ms/step - accuracy: 0.9931 - loss: 0.0333 - val_accuracy: 0.7734 - val_loss: 0.3922\n",
      "Epoch 23/100\n",
      "\u001b[1m16/16\u001b[0m \u001b[32m━━━━━━━━━━━━━━━━━━━━\u001b[0m\u001b[37m\u001b[0m \u001b[1m1s\u001b[0m 34ms/step - accuracy: 0.9838 - loss: 0.0951 - val_accuracy: 0.8047 - val_loss: 0.3645\n",
      "Epoch 24/100\n",
      "\u001b[1m16/16\u001b[0m \u001b[32m━━━━━━━━━━━━━━━━━━━━\u001b[0m\u001b[37m\u001b[0m \u001b[1m1s\u001b[0m 34ms/step - accuracy: 0.9811 - loss: 0.0650 - val_accuracy: 0.8828 - val_loss: 0.3225\n",
      "Epoch 25/100\n",
      "\u001b[1m16/16\u001b[0m \u001b[32m━━━━━━━━━━━━━━━━━━━━\u001b[0m\u001b[37m\u001b[0m \u001b[1m1s\u001b[0m 34ms/step - accuracy: 0.9941 - loss: 0.0325 - val_accuracy: 0.8906 - val_loss: 0.2982\n",
      "Epoch 26/100\n",
      "\u001b[1m16/16\u001b[0m \u001b[32m━━━━━━━━━━━━━━━━━━━━\u001b[0m\u001b[37m\u001b[0m \u001b[1m1s\u001b[0m 34ms/step - accuracy: 0.9941 - loss: 0.0283 - val_accuracy: 0.9062 - val_loss: 0.2774\n",
      "Epoch 27/100\n",
      "\u001b[1m16/16\u001b[0m \u001b[32m━━━━━━━━━━━━━━━━━━━━\u001b[0m\u001b[37m\u001b[0m \u001b[1m1s\u001b[0m 35ms/step - accuracy: 0.9941 - loss: 0.0262 - val_accuracy: 0.9062 - val_loss: 0.2699\n",
      "Epoch 28/100\n",
      "\u001b[1m16/16\u001b[0m \u001b[32m━━━━━━━━━━━━━━━━━━━━\u001b[0m\u001b[37m\u001b[0m \u001b[1m1s\u001b[0m 34ms/step - accuracy: 0.9941 - loss: 0.0263 - val_accuracy: 0.9141 - val_loss: 0.2631\n",
      "Epoch 29/100\n",
      "\u001b[1m16/16\u001b[0m \u001b[32m━━━━━━━━━━━━━━━━━━━━\u001b[0m\u001b[37m\u001b[0m \u001b[1m1s\u001b[0m 34ms/step - accuracy: 0.9941 - loss: 0.0240 - val_accuracy: 0.9141 - val_loss: 0.2556\n",
      "Epoch 30/100\n",
      "\u001b[1m16/16\u001b[0m \u001b[32m━━━━━━━━━━━━━━━━━━━━\u001b[0m\u001b[37m\u001b[0m \u001b[1m1s\u001b[0m 34ms/step - accuracy: 0.9941 - loss: 0.0199 - val_accuracy: 0.9062 - val_loss: 0.2557\n",
      "Epoch 31/100\n",
      "\u001b[1m16/16\u001b[0m \u001b[32m━━━━━━━━━━━━━━━━━━━━\u001b[0m\u001b[37m\u001b[0m \u001b[1m1s\u001b[0m 34ms/step - accuracy: 0.9941 - loss: 0.0200 - val_accuracy: 0.9141 - val_loss: 0.2484\n",
      "Epoch 32/100\n",
      "\u001b[1m16/16\u001b[0m \u001b[32m━━━━━━━━━━━━━━━━━━━━\u001b[0m\u001b[37m\u001b[0m \u001b[1m1s\u001b[0m 33ms/step - accuracy: 0.9833 - loss: 0.0571 - val_accuracy: 0.9375 - val_loss: 0.2375\n",
      "Epoch 33/100\n",
      "\u001b[1m16/16\u001b[0m \u001b[32m━━━━━━━━━━━━━━━━━━━━\u001b[0m\u001b[37m\u001b[0m \u001b[1m1s\u001b[0m 34ms/step - accuracy: 0.9941 - loss: 0.0191 - val_accuracy: 0.9375 - val_loss: 0.2366\n",
      "Epoch 34/100\n",
      "\u001b[1m16/16\u001b[0m \u001b[32m━━━━━━━━━━━━━━━━━━━━\u001b[0m\u001b[37m\u001b[0m \u001b[1m1s\u001b[0m 34ms/step - accuracy: 0.9941 - loss: 0.0155 - val_accuracy: 0.9375 - val_loss: 0.2387\n",
      "Epoch 35/100\n",
      "\u001b[1m16/16\u001b[0m \u001b[32m━━━━━━━━━━━━━━━━━━━━\u001b[0m\u001b[37m\u001b[0m \u001b[1m1s\u001b[0m 33ms/step - accuracy: 0.9945 - loss: 0.0178 - val_accuracy: 0.9297 - val_loss: 0.2421\n",
      "Epoch 36/100\n",
      "\u001b[1m16/16\u001b[0m \u001b[32m━━━━━━━━━━━━━━━━━━━━\u001b[0m\u001b[37m\u001b[0m \u001b[1m1s\u001b[0m 33ms/step - accuracy: 0.9941 - loss: 0.0172 - val_accuracy: 0.9219 - val_loss: 0.2467\n",
      "Epoch 37/100\n",
      "\u001b[1m16/16\u001b[0m \u001b[32m━━━━━━━━━━━━━━━━━━━━\u001b[0m\u001b[37m\u001b[0m \u001b[1m1s\u001b[0m 33ms/step - accuracy: 0.9941 - loss: 0.0162 - val_accuracy: 0.9219 - val_loss: 0.2565\n",
      "Epoch 38/100\n",
      "\u001b[1m16/16\u001b[0m \u001b[32m━━━━━━━━━━━━━━━━━━━━\u001b[0m\u001b[37m\u001b[0m \u001b[1m1s\u001b[0m 34ms/step - accuracy: 0.9945 - loss: 0.0144 - val_accuracy: 0.9219 - val_loss: 0.2764\n",
      "Epoch 39/100\n",
      "\u001b[1m16/16\u001b[0m \u001b[32m━━━━━━━━━━━━━━━━━━━━\u001b[0m\u001b[37m\u001b[0m \u001b[1m1s\u001b[0m 34ms/step - accuracy: 0.9945 - loss: 0.0145 - val_accuracy: 0.9219 - val_loss: 0.2975\n",
      "Epoch 40/100\n",
      "\u001b[1m16/16\u001b[0m \u001b[32m━━━━━━━━━━━━━━━━━━━━\u001b[0m\u001b[37m\u001b[0m \u001b[1m1s\u001b[0m 33ms/step - accuracy: 0.9945 - loss: 0.0126 - val_accuracy: 0.9062 - val_loss: 0.3279\n",
      "Epoch 41/100\n",
      "\u001b[1m16/16\u001b[0m \u001b[32m━━━━━━━━━━━━━━━━━━━━\u001b[0m\u001b[37m\u001b[0m \u001b[1m1s\u001b[0m 34ms/step - accuracy: 0.9945 - loss: 0.0134 - val_accuracy: 0.9062 - val_loss: 0.3299\n",
      "Epoch 42/100\n",
      "\u001b[1m16/16\u001b[0m \u001b[32m━━━━━━━━━━━━━━━━━━━━\u001b[0m\u001b[37m\u001b[0m \u001b[1m1s\u001b[0m 36ms/step - accuracy: 0.9945 - loss: 0.0107 - val_accuracy: 0.9141 - val_loss: 0.3650\n",
      "Epoch 43/100\n",
      "\u001b[1m16/16\u001b[0m \u001b[32m━━━━━━━━━━━━━━━━━━━━\u001b[0m\u001b[37m\u001b[0m \u001b[1m1s\u001b[0m 33ms/step - accuracy: 0.9903 - loss: 0.0331 - val_accuracy: 0.9219 - val_loss: 0.3543\n",
      "\u001b[1m5/5\u001b[0m \u001b[32m━━━━━━━━━━━━━━━━━━━━\u001b[0m\u001b[37m\u001b[0m \u001b[1m0s\u001b[0m 14ms/step - accuracy: 0.9207 - loss: 0.2200\n",
      "Test set loss: 0.21723075211048126\n",
      "Training set accuracy: 0.9312499761581421\n"
     ]
    },
    {
     "data": {
      "image/png": "[encoded data removed]",
      "text/plain": [
       "<Figure size 640x480 with 1 Axes>"
      ]
     },
     "metadata": {},
     "output_type": "display_data"
    },
    {
     "name": "stdout",
     "output_type": "stream",
     "text": [
      "\u001b[1m7/7\u001b[0m \u001b[32m━━━━━━━━━━━━━━━━━━━━\u001b[0m\u001b[37m\u001b[0m \u001b[1m0s\u001b[0m 25ms/step\n"
     ]
    },
    {
     "name": "stderr",
     "output_type": "stream",
     "text": [
      "WARNING:absl:You are saving your model as an HDF5 file via `model.save()` or `keras.saving.save_model(model)`. This file format is considered legacy. We recommend using instead the native Keras format, e.g. `model.save('my_model.keras')` or `keras.saving.save_model(model, 'my_model.keras')`. \n"
     ]
    },
    {
     "name": "stdout",
     "output_type": "stream",
     "text": [
      "Testing set accuracy: 0.9554455445544554\n",
      "                                                  Text  Predicted Label  \\\n",
      "0    video started whole got dick stuck elevator ex...                0   \n",
      "1                                   anyone sub channel                1   \n",
      "2                                     prehistoric song                0   \n",
      "3                            think smart headbutt face                0   \n",
      "4                dislike one know real music ex enimen                0   \n",
      "..                                                 ...              ...   \n",
      "197                                check video youtube                1   \n",
      "198                                check video youtube                1   \n",
      "199                                check video youtube                1   \n",
      "200                                check video youtube                1   \n",
      "201    br attention subscribe channel br br gracias br                1   \n",
      "\n",
      "     Actual Label  \n",
      "0               0  \n",
      "1               1  \n",
      "2               0  \n",
      "3               0  \n",
      "4               0  \n",
      "..            ...  \n",
      "197             1  \n",
      "198             1  \n",
      "199             1  \n",
      "200             1  \n",
      "201             1  \n",
      "\n",
      "[202 rows x 3 columns]\n",
      "Model is saved as: youtube_spam_detection_model.h5\n",
      "Tokenizer save as tokenizer.pickle\n"
     ]
    }
   ],
   "source": [
    "if __name__ == '__main__':\n",
    "    main()"
   ]
  },
  {
   "cell_type": "code",
   "execution_count": null,
   "id": "d693b055-31b1-445e-be7d-27be8019df9d",
   "metadata": {},
   "outputs": [],
   "source": []
  }
 ],
 "metadata": {
  "kernelspec": {
   "display_name": "Python 3 (ipykernel)",
   "language": "python",
   "name": "python3"
  },
  "language_info": {
   "codemirror_mode": {
    "name": "ipython",
    "version": 3
   },
   "file_extension": ".py",
   "mimetype": "text/x-python",
   "name": "python",
   "nbconvert_exporter": "python",
   "pygments_lexer": "ipython3",
   "version": "3.11.11"
  }
 },
 "nbformat": 4,
 "nbformat_minor": 5
}
